{
 "nbformat": 4,
 "nbformat_minor": 0,
 "metadata": {
  "colab": {
   "name": "DEBIAS_DOWNSTREAM_EFFECT.ipynb",
   "provenance": [],
   "collapsed_sections": []
  },
  "kernelspec": {
   "name": "python3",
   "display_name": "Python 3"
  },
  "language_info": {
   "name": "python"
  }
 },
 "cells": [
  {
   "cell_type": "markdown",
   "source": [
    "#Download Source Code and Dependencies"
   ],
   "metadata": {
    "id": "rMaWXoXFWiIo"
   }
  },
  {
   "cell_type": "code",
   "execution_count": null,
   "metadata": {
    "id": "JWAGRBHCO8E8",
    "colab": {
     "base_uri": "https://localhost:8080/"
    },
    "outputId": "9da24421-c76e-439c-e180-ed1b09c971ae",
    "pycharm": {
     "is_executing": true
    }
   },
   "outputs": [],
   "source": [
    "% cd /content\n",
    "!git clone https://github.com/TheStarterPack/Word-Embedding-Bias-Mitigation-Downstream.git &> /dev/null\n",
    "!pip3 install datasets &> /dev/null\n",
    "!pip3 install keras-self-attention &> /dev/null\n",
    "!pip3 install gensim==4.1.2 &> /dev/null\n",
    "%cd Word-Embedding-Bias-Mitigation-Downstream/\n",
    "!git pull origin\n",
    "!git checkout main\n",
    "%cd .."
   ]
  },
  {
   "cell_type": "markdown",
   "source": [
    "#Download and set up word embeddings"
   ],
   "metadata": {
    "id": "-1CVQ2jRWp9Y"
   }
  },
  {
   "cell_type": "code",
   "source": [
    "!pip install --upgrade gdown &> /dev/null\n",
    "!mkdir embeddings\n",
    "!gdown https://drive.google.com/uc?id=1jrbQmpB5ZNH4w54yujeAvNFAfVEG0SuE\n",
    "!gdown https://drive.google.com/uc?id=1v82WF43w-lE-vpZd0JC1K8WYZQkTy_ii\n",
    "!gdown https://drive.google.com/uc?id=12VK2-BpLAg_-VPVl_wcLBZbzd9wcwyqN -O embeddings/gp-glove.txt\n",
    "!gdown https://drive.google.com/uc?id=1Rn--1pxjBhyp5os7zw75VB-YQUHXcfgF -O embeddings/gp-gn-glove.txt\n",
    "\n",
    "!unzip GloVe.zip -d embeddings\n",
    "!rm GloVe.zip\n",
    "!echo '322636 300' >> embeddings/glove.txt\n",
    "!cat embeddings/vectors.txt >> embeddings/glove.txt\n",
    "!rm embeddings/vectors.txt\n",
    "\n",
    "!unzip GN-GloVe-L1-0.8-0.8.txt.zip -d embeddings\n",
    "!rm GN-GloVe-L1-0.8-0.8.txt.zip\n",
    "!echo '322636 300' >> embeddings/gn-glove.txt\n",
    "!cat embeddings/vectors300.txt >> embeddings/gn-glove.txt\n",
    "!rm embeddings/vectors300.txt"
   ],
   "metadata": {
    "colab": {
     "base_uri": "https://localhost:8080/"
    },
    "id": "l8VbVVcVPywF",
    "outputId": "e85370be-08aa-413a-b407-7c28d3785ea2",
    "pycharm": {
     "is_executing": true
    }
   },
   "execution_count": null,
   "outputs": []
  },
  {
   "cell_type": "markdown",
   "source": [
    "#Evaluate Model with embedding"
   ],
   "metadata": {
    "id": "qupQR9gDWtSJ"
   }
  },
  {
   "cell_type": "code",
   "source": [
    "!python3 Word-Embedding-Bias-Mitigation-Downstream/main.py glove pos ./"
   ],
   "metadata": {
    "id": "pQNyZ8u5PwC7",
    "colab": {
     "base_uri": "https://localhost:8080/"
    },
    "outputId": "ce005248-02f6-4c12-c5df-c7b78f93bd81",
    "pycharm": {
     "is_executing": true
    }
   },
   "execution_count": null,
   "outputs": []
  }
 ]
}